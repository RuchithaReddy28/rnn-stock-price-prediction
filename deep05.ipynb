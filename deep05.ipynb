{
  "nbformat": 4,
  "nbformat_minor": 0,
  "metadata": {
    "colab": {
      "provenance": []
    },
    "kernelspec": {
      "name": "python3",
      "display_name": "Python 3"
    },
    "language_info": {
      "name": "python"
    }
  },
  "cells": [
    {
      "cell_type": "code",
      "source": [
        "import numpy as np\n",
        "import matplotlib.pyplot as plt\n",
        "import pandas as pd\n",
        "from sklearn.preprocessing import MinMaxScaler\n",
        "from keras import layers\n",
        "from keras.models import Sequential\n"
      ],
      "metadata": {
        "id": "1rrrGcx2cGR0"
      },
      "execution_count": 26,
      "outputs": []
    },
    {
      "cell_type": "code",
      "source": [
        "\n",
        "dataset_train = pd.read_csv('trainset.csv')"
      ],
      "metadata": {
        "id": "2H39y8rSd2_T"
      },
      "execution_count": 27,
      "outputs": []
    },
    {
      "cell_type": "code",
      "source": [
        "\n",
        "dataset_train.columns"
      ],
      "metadata": {
        "colab": {
          "base_uri": "https://localhost:8080/"
        },
        "id": "3s6kWAm5cVXE",
        "outputId": "78dfb198-d0f6-4976-823e-cc9d5ad4bfa6"
      },
      "execution_count": 28,
      "outputs": [
        {
          "output_type": "execute_result",
          "data": {
            "text/plain": [
              "Index(['Date', 'Open', 'High', 'Low', 'Close', 'Adj Close', 'Volume'], dtype='object')"
            ]
          },
          "metadata": {},
          "execution_count": 28
        }
      ]
    },
    {
      "cell_type": "code",
      "source": [
        "dataset_train.head()"
      ],
      "metadata": {
        "colab": {
          "base_uri": "https://localhost:8080/",
          "height": 206
        },
        "id": "XJIs5wxNcZEG",
        "outputId": "c1f3a229-9665-4eec-ad47-fc6d0603a283"
      },
      "execution_count": 5,
      "outputs": [
        {
          "output_type": "execute_result",
          "data": {
            "text/plain": [
              "         Date        Open        High         Low       Close   Adj Close  \\\n",
              "0  2013-01-02  357.385559  361.151062  355.959839  359.288177  359.288177   \n",
              "1  2013-01-03  360.122742  363.600128  358.031342  359.496826  359.496826   \n",
              "2  2013-01-04  362.313507  368.339294  361.488861  366.600616  366.600616   \n",
              "3  2013-01-07  365.348755  367.301056  362.929504  365.001007  365.001007   \n",
              "4  2013-01-08  365.393463  365.771027  359.874359  364.280701  364.280701   \n",
              "\n",
              "    Volume  \n",
              "0  5115500  \n",
              "1  4666500  \n",
              "2  5562800  \n",
              "3  3332900  \n",
              "4  3373900  "
            ],
            "text/html": [
              "\n",
              "  <div id=\"df-7db99743-13ef-469e-8039-21d1295a3a09\" class=\"colab-df-container\">\n",
              "    <div>\n",
              "<style scoped>\n",
              "    .dataframe tbody tr th:only-of-type {\n",
              "        vertical-align: middle;\n",
              "    }\n",
              "\n",
              "    .dataframe tbody tr th {\n",
              "        vertical-align: top;\n",
              "    }\n",
              "\n",
              "    .dataframe thead th {\n",
              "        text-align: right;\n",
              "    }\n",
              "</style>\n",
              "<table border=\"1\" class=\"dataframe\">\n",
              "  <thead>\n",
              "    <tr style=\"text-align: right;\">\n",
              "      <th></th>\n",
              "      <th>Date</th>\n",
              "      <th>Open</th>\n",
              "      <th>High</th>\n",
              "      <th>Low</th>\n",
              "      <th>Close</th>\n",
              "      <th>Adj Close</th>\n",
              "      <th>Volume</th>\n",
              "    </tr>\n",
              "  </thead>\n",
              "  <tbody>\n",
              "    <tr>\n",
              "      <th>0</th>\n",
              "      <td>2013-01-02</td>\n",
              "      <td>357.385559</td>\n",
              "      <td>361.151062</td>\n",
              "      <td>355.959839</td>\n",
              "      <td>359.288177</td>\n",
              "      <td>359.288177</td>\n",
              "      <td>5115500</td>\n",
              "    </tr>\n",
              "    <tr>\n",
              "      <th>1</th>\n",
              "      <td>2013-01-03</td>\n",
              "      <td>360.122742</td>\n",
              "      <td>363.600128</td>\n",
              "      <td>358.031342</td>\n",
              "      <td>359.496826</td>\n",
              "      <td>359.496826</td>\n",
              "      <td>4666500</td>\n",
              "    </tr>\n",
              "    <tr>\n",
              "      <th>2</th>\n",
              "      <td>2013-01-04</td>\n",
              "      <td>362.313507</td>\n",
              "      <td>368.339294</td>\n",
              "      <td>361.488861</td>\n",
              "      <td>366.600616</td>\n",
              "      <td>366.600616</td>\n",
              "      <td>5562800</td>\n",
              "    </tr>\n",
              "    <tr>\n",
              "      <th>3</th>\n",
              "      <td>2013-01-07</td>\n",
              "      <td>365.348755</td>\n",
              "      <td>367.301056</td>\n",
              "      <td>362.929504</td>\n",
              "      <td>365.001007</td>\n",
              "      <td>365.001007</td>\n",
              "      <td>3332900</td>\n",
              "    </tr>\n",
              "    <tr>\n",
              "      <th>4</th>\n",
              "      <td>2013-01-08</td>\n",
              "      <td>365.393463</td>\n",
              "      <td>365.771027</td>\n",
              "      <td>359.874359</td>\n",
              "      <td>364.280701</td>\n",
              "      <td>364.280701</td>\n",
              "      <td>3373900</td>\n",
              "    </tr>\n",
              "  </tbody>\n",
              "</table>\n",
              "</div>\n",
              "    <div class=\"colab-df-buttons\">\n",
              "\n",
              "  <div class=\"colab-df-container\">\n",
              "    <button class=\"colab-df-convert\" onclick=\"convertToInteractive('df-7db99743-13ef-469e-8039-21d1295a3a09')\"\n",
              "            title=\"Convert this dataframe to an interactive table.\"\n",
              "            style=\"display:none;\">\n",
              "\n",
              "  <svg xmlns=\"http://www.w3.org/2000/svg\" height=\"24px\" viewBox=\"0 -960 960 960\">\n",
              "    <path d=\"M120-120v-720h720v720H120Zm60-500h600v-160H180v160Zm220 220h160v-160H400v160Zm0 220h160v-160H400v160ZM180-400h160v-160H180v160Zm440 0h160v-160H620v160ZM180-180h160v-160H180v160Zm440 0h160v-160H620v160Z\"/>\n",
              "  </svg>\n",
              "    </button>\n",
              "\n",
              "  <style>\n",
              "    .colab-df-container {\n",
              "      display:flex;\n",
              "      gap: 12px;\n",
              "    }\n",
              "\n",
              "    .colab-df-convert {\n",
              "      background-color: #E8F0FE;\n",
              "      border: none;\n",
              "      border-radius: 50%;\n",
              "      cursor: pointer;\n",
              "      display: none;\n",
              "      fill: #1967D2;\n",
              "      height: 32px;\n",
              "      padding: 0 0 0 0;\n",
              "      width: 32px;\n",
              "    }\n",
              "\n",
              "    .colab-df-convert:hover {\n",
              "      background-color: #E2EBFA;\n",
              "      box-shadow: 0px 1px 2px rgba(60, 64, 67, 0.3), 0px 1px 3px 1px rgba(60, 64, 67, 0.15);\n",
              "      fill: #174EA6;\n",
              "    }\n",
              "\n",
              "    .colab-df-buttons div {\n",
              "      margin-bottom: 4px;\n",
              "    }\n",
              "\n",
              "    [theme=dark] .colab-df-convert {\n",
              "      background-color: #3B4455;\n",
              "      fill: #D2E3FC;\n",
              "    }\n",
              "\n",
              "    [theme=dark] .colab-df-convert:hover {\n",
              "      background-color: #434B5C;\n",
              "      box-shadow: 0px 1px 3px 1px rgba(0, 0, 0, 0.15);\n",
              "      filter: drop-shadow(0px 1px 2px rgba(0, 0, 0, 0.3));\n",
              "      fill: #FFFFFF;\n",
              "    }\n",
              "  </style>\n",
              "\n",
              "    <script>\n",
              "      const buttonEl =\n",
              "        document.querySelector('#df-7db99743-13ef-469e-8039-21d1295a3a09 button.colab-df-convert');\n",
              "      buttonEl.style.display =\n",
              "        google.colab.kernel.accessAllowed ? 'block' : 'none';\n",
              "\n",
              "      async function convertToInteractive(key) {\n",
              "        const element = document.querySelector('#df-7db99743-13ef-469e-8039-21d1295a3a09');\n",
              "        const dataTable =\n",
              "          await google.colab.kernel.invokeFunction('convertToInteractive',\n",
              "                                                    [key], {});\n",
              "        if (!dataTable) return;\n",
              "\n",
              "        const docLinkHtml = 'Like what you see? Visit the ' +\n",
              "          '<a target=\"_blank\" href=https://colab.research.google.com/notebooks/data_table.ipynb>data table notebook</a>'\n",
              "          + ' to learn more about interactive tables.';\n",
              "        element.innerHTML = '';\n",
              "        dataTable['output_type'] = 'display_data';\n",
              "        await google.colab.output.renderOutput(dataTable, element);\n",
              "        const docLink = document.createElement('div');\n",
              "        docLink.innerHTML = docLinkHtml;\n",
              "        element.appendChild(docLink);\n",
              "      }\n",
              "    </script>\n",
              "  </div>\n",
              "\n",
              "\n",
              "<div id=\"df-7cd51186-58bb-4e7d-817a-01d076f662e9\">\n",
              "  <button class=\"colab-df-quickchart\" onclick=\"quickchart('df-7cd51186-58bb-4e7d-817a-01d076f662e9')\"\n",
              "            title=\"Suggest charts.\"\n",
              "            style=\"display:none;\">\n",
              "\n",
              "<svg xmlns=\"http://www.w3.org/2000/svg\" height=\"24px\"viewBox=\"0 0 24 24\"\n",
              "     width=\"24px\">\n",
              "    <g>\n",
              "        <path d=\"M19 3H5c-1.1 0-2 .9-2 2v14c0 1.1.9 2 2 2h14c1.1 0 2-.9 2-2V5c0-1.1-.9-2-2-2zM9 17H7v-7h2v7zm4 0h-2V7h2v10zm4 0h-2v-4h2v4z\"/>\n",
              "    </g>\n",
              "</svg>\n",
              "  </button>\n",
              "\n",
              "<style>\n",
              "  .colab-df-quickchart {\n",
              "      --bg-color: #E8F0FE;\n",
              "      --fill-color: #1967D2;\n",
              "      --hover-bg-color: #E2EBFA;\n",
              "      --hover-fill-color: #174EA6;\n",
              "      --disabled-fill-color: #AAA;\n",
              "      --disabled-bg-color: #DDD;\n",
              "  }\n",
              "\n",
              "  [theme=dark] .colab-df-quickchart {\n",
              "      --bg-color: #3B4455;\n",
              "      --fill-color: #D2E3FC;\n",
              "      --hover-bg-color: #434B5C;\n",
              "      --hover-fill-color: #FFFFFF;\n",
              "      --disabled-bg-color: #3B4455;\n",
              "      --disabled-fill-color: #666;\n",
              "  }\n",
              "\n",
              "  .colab-df-quickchart {\n",
              "    background-color: var(--bg-color);\n",
              "    border: none;\n",
              "    border-radius: 50%;\n",
              "    cursor: pointer;\n",
              "    display: none;\n",
              "    fill: var(--fill-color);\n",
              "    height: 32px;\n",
              "    padding: 0;\n",
              "    width: 32px;\n",
              "  }\n",
              "\n",
              "  .colab-df-quickchart:hover {\n",
              "    background-color: var(--hover-bg-color);\n",
              "    box-shadow: 0 1px 2px rgba(60, 64, 67, 0.3), 0 1px 3px 1px rgba(60, 64, 67, 0.15);\n",
              "    fill: var(--button-hover-fill-color);\n",
              "  }\n",
              "\n",
              "  .colab-df-quickchart-complete:disabled,\n",
              "  .colab-df-quickchart-complete:disabled:hover {\n",
              "    background-color: var(--disabled-bg-color);\n",
              "    fill: var(--disabled-fill-color);\n",
              "    box-shadow: none;\n",
              "  }\n",
              "\n",
              "  .colab-df-spinner {\n",
              "    border: 2px solid var(--fill-color);\n",
              "    border-color: transparent;\n",
              "    border-bottom-color: var(--fill-color);\n",
              "    animation:\n",
              "      spin 1s steps(1) infinite;\n",
              "  }\n",
              "\n",
              "  @keyframes spin {\n",
              "    0% {\n",
              "      border-color: transparent;\n",
              "      border-bottom-color: var(--fill-color);\n",
              "      border-left-color: var(--fill-color);\n",
              "    }\n",
              "    20% {\n",
              "      border-color: transparent;\n",
              "      border-left-color: var(--fill-color);\n",
              "      border-top-color: var(--fill-color);\n",
              "    }\n",
              "    30% {\n",
              "      border-color: transparent;\n",
              "      border-left-color: var(--fill-color);\n",
              "      border-top-color: var(--fill-color);\n",
              "      border-right-color: var(--fill-color);\n",
              "    }\n",
              "    40% {\n",
              "      border-color: transparent;\n",
              "      border-right-color: var(--fill-color);\n",
              "      border-top-color: var(--fill-color);\n",
              "    }\n",
              "    60% {\n",
              "      border-color: transparent;\n",
              "      border-right-color: var(--fill-color);\n",
              "    }\n",
              "    80% {\n",
              "      border-color: transparent;\n",
              "      border-right-color: var(--fill-color);\n",
              "      border-bottom-color: var(--fill-color);\n",
              "    }\n",
              "    90% {\n",
              "      border-color: transparent;\n",
              "      border-bottom-color: var(--fill-color);\n",
              "    }\n",
              "  }\n",
              "</style>\n",
              "\n",
              "  <script>\n",
              "    async function quickchart(key) {\n",
              "      const quickchartButtonEl =\n",
              "        document.querySelector('#' + key + ' button');\n",
              "      quickchartButtonEl.disabled = true;  // To prevent multiple clicks.\n",
              "      quickchartButtonEl.classList.add('colab-df-spinner');\n",
              "      try {\n",
              "        const charts = await google.colab.kernel.invokeFunction(\n",
              "            'suggestCharts', [key], {});\n",
              "      } catch (error) {\n",
              "        console.error('Error during call to suggestCharts:', error);\n",
              "      }\n",
              "      quickchartButtonEl.classList.remove('colab-df-spinner');\n",
              "      quickchartButtonEl.classList.add('colab-df-quickchart-complete');\n",
              "    }\n",
              "    (() => {\n",
              "      let quickchartButtonEl =\n",
              "        document.querySelector('#df-7cd51186-58bb-4e7d-817a-01d076f662e9 button');\n",
              "      quickchartButtonEl.style.display =\n",
              "        google.colab.kernel.accessAllowed ? 'block' : 'none';\n",
              "    })();\n",
              "  </script>\n",
              "</div>\n",
              "    </div>\n",
              "  </div>\n"
            ]
          },
          "metadata": {},
          "execution_count": 5
        }
      ]
    },
    {
      "cell_type": "code",
      "source": [
        "\n",
        "train_set = dataset_train.iloc[:,1:2].values"
      ],
      "metadata": {
        "id": "U3GTlv2icbpE"
      },
      "execution_count": 6,
      "outputs": []
    },
    {
      "cell_type": "code",
      "source": [
        "type(train_set)"
      ],
      "metadata": {
        "colab": {
          "base_uri": "https://localhost:8080/"
        },
        "id": "SO-DTOIQcgxB",
        "outputId": "ee6e77d5-0977-4748-ecd6-d391c38a09ac"
      },
      "execution_count": 7,
      "outputs": [
        {
          "output_type": "execute_result",
          "data": {
            "text/plain": [
              "numpy.ndarray"
            ]
          },
          "metadata": {},
          "execution_count": 7
        }
      ]
    },
    {
      "cell_type": "code",
      "source": [
        "\n",
        "train_set.shape"
      ],
      "metadata": {
        "colab": {
          "base_uri": "https://localhost:8080/"
        },
        "id": "SVpVGiW6cpkv",
        "outputId": "e5693480-7af6-4530-de32-54a04c7d1f9f"
      },
      "execution_count": 8,
      "outputs": [
        {
          "output_type": "execute_result",
          "data": {
            "text/plain": [
              "(1259, 1)"
            ]
          },
          "metadata": {},
          "execution_count": 8
        }
      ]
    },
    {
      "cell_type": "code",
      "source": [
        "X_train_array = []\n",
        "y_train_array = []\n",
        "for i in range(60, 1259):\n",
        "  X_train_array.append(training_set_scaled[i-60:i,0])\n",
        "  y_train_array.append(training_set_scaled[i,0])\n",
        "X_train, y_train = np.array(X_train_array), np.array(y_train_array)\n",
        "X_train1 = X_train.reshape((X_train.shape[0], X_train.shape[1],1))"
      ],
      "metadata": {
        "id": "wQLX7IKjcy5d"
      },
      "execution_count": 11,
      "outputs": []
    },
    {
      "cell_type": "code",
      "source": [
        "X_train.shape"
      ],
      "metadata": {
        "colab": {
          "base_uri": "https://localhost:8080/"
        },
        "id": "IdfqCxJ7c2ef",
        "outputId": "7d417d9c-1789-4092-d0cf-a604034c62e7"
      },
      "execution_count": 12,
      "outputs": [
        {
          "output_type": "execute_result",
          "data": {
            "text/plain": [
              "(1199, 60)"
            ]
          },
          "metadata": {},
          "execution_count": 12
        }
      ]
    },
    {
      "cell_type": "code",
      "source": [
        "length = 60\n",
        "n_features = 1"
      ],
      "metadata": {
        "id": "kBr4QqTCc6Ny"
      },
      "execution_count": 13,
      "outputs": []
    },
    {
      "cell_type": "code",
      "source": [
        "model = Sequential()\n",
        "model.add(layers.SimpleRNN(10,input_shape=(60,1)))\n",
        "model.add(layers.Dense(1))\n",
        "model.compile(optimizer='adam', loss='mse')"
      ],
      "metadata": {
        "id": "5QtP5WOqc9Yo"
      },
      "execution_count": 14,
      "outputs": []
    },
    {
      "cell_type": "code",
      "source": [
        "model.summary()"
      ],
      "metadata": {
        "colab": {
          "base_uri": "https://localhost:8080/"
        },
        "id": "rbla3RU_dADh",
        "outputId": "16e0036c-3dd7-4f4a-b858-90c4ea333d57"
      },
      "execution_count": 15,
      "outputs": [
        {
          "output_type": "stream",
          "name": "stdout",
          "text": [
            "Model: \"sequential\"\n",
            "_________________________________________________________________\n",
            " Layer (type)                Output Shape              Param #   \n",
            "=================================================================\n",
            " simple_rnn (SimpleRNN)      (None, 10)                120       \n",
            "                                                                 \n",
            " dense (Dense)               (None, 1)                 11        \n",
            "                                                                 \n",
            "=================================================================\n",
            "Total params: 131 (524.00 Byte)\n",
            "Trainable params: 131 (524.00 Byte)\n",
            "Non-trainable params: 0 (0.00 Byte)\n",
            "_________________________________________________________________\n"
          ]
        }
      ]
    },
    {
      "cell_type": "code",
      "source": [
        "model.fit(X_train1,y_train,epochs=100, batch_size=32)"
      ],
      "metadata": {
        "colab": {
          "base_uri": "https://localhost:8080/"
        },
        "id": "n2uOPI_6dDLo",
        "outputId": "855f6df5-a770-4dbd-b0c8-4c20389c8ca0"
      },
      "execution_count": 16,
      "outputs": [
        {
          "output_type": "stream",
          "name": "stdout",
          "text": [
            "Epoch 1/100\n",
            "38/38 [==============================] - 2s 10ms/step - loss: 0.2147\n",
            "Epoch 2/100\n",
            "38/38 [==============================] - 0s 10ms/step - loss: 0.0231\n",
            "Epoch 3/100\n",
            "38/38 [==============================] - 0s 11ms/step - loss: 0.0075\n",
            "Epoch 4/100\n",
            "38/38 [==============================] - 0s 11ms/step - loss: 0.0028\n",
            "Epoch 5/100\n",
            "38/38 [==============================] - 1s 16ms/step - loss: 0.0016\n",
            "Epoch 6/100\n",
            "38/38 [==============================] - 1s 20ms/step - loss: 0.0011\n",
            "Epoch 7/100\n",
            "38/38 [==============================] - 1s 25ms/step - loss: 8.8002e-04\n",
            "Epoch 8/100\n",
            "38/38 [==============================] - 1s 23ms/step - loss: 7.3750e-04\n",
            "Epoch 9/100\n",
            "38/38 [==============================] - 1s 27ms/step - loss: 6.5558e-04\n",
            "Epoch 10/100\n",
            "38/38 [==============================] - 1s 17ms/step - loss: 6.0135e-04\n",
            "Epoch 11/100\n",
            "38/38 [==============================] - 0s 10ms/step - loss: 5.6680e-04\n",
            "Epoch 12/100\n",
            "38/38 [==============================] - 1s 14ms/step - loss: 5.4025e-04\n",
            "Epoch 13/100\n",
            "38/38 [==============================] - 0s 13ms/step - loss: 5.1720e-04\n",
            "Epoch 14/100\n",
            "38/38 [==============================] - 1s 19ms/step - loss: 4.9573e-04\n",
            "Epoch 15/100\n",
            "38/38 [==============================] - 1s 25ms/step - loss: 4.8372e-04\n",
            "Epoch 16/100\n",
            "38/38 [==============================] - 1s 30ms/step - loss: 4.6828e-04\n",
            "Epoch 17/100\n",
            "38/38 [==============================] - 1s 34ms/step - loss: 4.5665e-04\n",
            "Epoch 18/100\n",
            "38/38 [==============================] - 1s 19ms/step - loss: 4.4709e-04\n",
            "Epoch 19/100\n",
            "38/38 [==============================] - 1s 23ms/step - loss: 4.3440e-04\n",
            "Epoch 20/100\n",
            "38/38 [==============================] - 1s 31ms/step - loss: 4.2609e-04\n",
            "Epoch 21/100\n",
            "38/38 [==============================] - 1s 30ms/step - loss: 4.1708e-04\n",
            "Epoch 22/100\n",
            "38/38 [==============================] - 1s 34ms/step - loss: 4.0624e-04\n",
            "Epoch 23/100\n",
            "38/38 [==============================] - 1s 34ms/step - loss: 4.0100e-04\n",
            "Epoch 24/100\n",
            "38/38 [==============================] - 1s 27ms/step - loss: 3.9254e-04\n",
            "Epoch 25/100\n",
            "38/38 [==============================] - 2s 53ms/step - loss: 3.8343e-04\n",
            "Epoch 26/100\n",
            "38/38 [==============================] - 2s 44ms/step - loss: 3.7688e-04\n",
            "Epoch 27/100\n",
            "38/38 [==============================] - 2s 54ms/step - loss: 3.7096e-04\n",
            "Epoch 28/100\n",
            "38/38 [==============================] - 1s 25ms/step - loss: 3.6445e-04\n",
            "Epoch 29/100\n",
            "38/38 [==============================] - 1s 28ms/step - loss: 3.6292e-04\n",
            "Epoch 30/100\n",
            "38/38 [==============================] - 1s 21ms/step - loss: 3.6720e-04\n",
            "Epoch 31/100\n",
            "38/38 [==============================] - 1s 16ms/step - loss: 3.5190e-04\n",
            "Epoch 32/100\n",
            "38/38 [==============================] - 1s 22ms/step - loss: 3.5019e-04\n",
            "Epoch 33/100\n",
            "38/38 [==============================] - 1s 20ms/step - loss: 3.4409e-04\n",
            "Epoch 34/100\n",
            "38/38 [==============================] - 1s 17ms/step - loss: 3.3795e-04\n",
            "Epoch 35/100\n",
            "38/38 [==============================] - 0s 9ms/step - loss: 3.3426e-04\n",
            "Epoch 36/100\n",
            "38/38 [==============================] - 0s 10ms/step - loss: 3.2746e-04\n",
            "Epoch 37/100\n",
            "38/38 [==============================] - 0s 10ms/step - loss: 3.2825e-04\n",
            "Epoch 38/100\n",
            "38/38 [==============================] - 0s 11ms/step - loss: 3.2241e-04\n",
            "Epoch 39/100\n",
            "38/38 [==============================] - 0s 10ms/step - loss: 3.1796e-04\n",
            "Epoch 40/100\n",
            "38/38 [==============================] - 1s 18ms/step - loss: 3.2731e-04\n",
            "Epoch 41/100\n",
            "38/38 [==============================] - 1s 14ms/step - loss: 3.1686e-04\n",
            "Epoch 42/100\n",
            "38/38 [==============================] - 1s 19ms/step - loss: 3.0868e-04\n",
            "Epoch 43/100\n",
            "38/38 [==============================] - 1s 24ms/step - loss: 3.1462e-04\n",
            "Epoch 44/100\n",
            "38/38 [==============================] - 1s 21ms/step - loss: 3.0798e-04\n",
            "Epoch 45/100\n",
            "38/38 [==============================] - 1s 20ms/step - loss: 2.9788e-04\n",
            "Epoch 46/100\n",
            "38/38 [==============================] - 1s 32ms/step - loss: 2.9548e-04\n",
            "Epoch 47/100\n",
            "38/38 [==============================] - 1s 25ms/step - loss: 2.9575e-04\n",
            "Epoch 48/100\n",
            "38/38 [==============================] - 1s 13ms/step - loss: 2.9340e-04\n",
            "Epoch 49/100\n",
            "38/38 [==============================] - 1s 15ms/step - loss: 2.9406e-04\n",
            "Epoch 50/100\n",
            "38/38 [==============================] - 1s 17ms/step - loss: 2.9882e-04\n",
            "Epoch 51/100\n",
            "38/38 [==============================] - 1s 18ms/step - loss: 2.8775e-04\n",
            "Epoch 52/100\n",
            "38/38 [==============================] - 1s 16ms/step - loss: 2.8394e-04\n",
            "Epoch 53/100\n",
            "38/38 [==============================] - 1s 24ms/step - loss: 2.8033e-04\n",
            "Epoch 54/100\n",
            "38/38 [==============================] - 1s 29ms/step - loss: 2.7959e-04\n",
            "Epoch 55/100\n",
            "38/38 [==============================] - 1s 16ms/step - loss: 2.8067e-04\n",
            "Epoch 56/100\n",
            "38/38 [==============================] - 0s 10ms/step - loss: 2.7458e-04\n",
            "Epoch 57/100\n",
            "38/38 [==============================] - 0s 11ms/step - loss: 2.7438e-04\n",
            "Epoch 58/100\n",
            "38/38 [==============================] - 1s 17ms/step - loss: 2.8351e-04\n",
            "Epoch 59/100\n",
            "38/38 [==============================] - 1s 25ms/step - loss: 2.6963e-04\n",
            "Epoch 60/100\n",
            "38/38 [==============================] - 1s 33ms/step - loss: 2.6717e-04\n",
            "Epoch 61/100\n",
            "38/38 [==============================] - 1s 36ms/step - loss: 2.6807e-04\n",
            "Epoch 62/100\n",
            "38/38 [==============================] - 2s 40ms/step - loss: 2.6425e-04\n",
            "Epoch 63/100\n",
            "38/38 [==============================] - 1s 27ms/step - loss: 2.6005e-04\n",
            "Epoch 64/100\n",
            "38/38 [==============================] - 1s 25ms/step - loss: 2.5802e-04\n",
            "Epoch 65/100\n",
            "38/38 [==============================] - 1s 14ms/step - loss: 2.5853e-04\n",
            "Epoch 66/100\n",
            "38/38 [==============================] - 1s 19ms/step - loss: 2.6082e-04\n",
            "Epoch 67/100\n",
            "38/38 [==============================] - 1s 24ms/step - loss: 2.6658e-04\n",
            "Epoch 68/100\n",
            "38/38 [==============================] - 1s 21ms/step - loss: 2.5392e-04\n",
            "Epoch 69/100\n",
            "38/38 [==============================] - 1s 18ms/step - loss: 2.5083e-04\n",
            "Epoch 70/100\n",
            "38/38 [==============================] - 0s 13ms/step - loss: 2.4703e-04\n",
            "Epoch 71/100\n",
            "38/38 [==============================] - 1s 18ms/step - loss: 2.6725e-04\n",
            "Epoch 72/100\n",
            "38/38 [==============================] - 1s 17ms/step - loss: 2.4873e-04\n",
            "Epoch 73/100\n",
            "38/38 [==============================] - 1s 16ms/step - loss: 2.4721e-04\n",
            "Epoch 74/100\n",
            "38/38 [==============================] - 1s 19ms/step - loss: 2.4878e-04\n",
            "Epoch 75/100\n",
            "38/38 [==============================] - 1s 20ms/step - loss: 2.4047e-04\n",
            "Epoch 76/100\n",
            "38/38 [==============================] - 1s 23ms/step - loss: 2.4069e-04\n",
            "Epoch 77/100\n",
            "38/38 [==============================] - 1s 23ms/step - loss: 2.4587e-04\n",
            "Epoch 78/100\n",
            "38/38 [==============================] - 1s 22ms/step - loss: 2.4009e-04\n",
            "Epoch 79/100\n",
            "38/38 [==============================] - 1s 25ms/step - loss: 2.3724e-04\n",
            "Epoch 80/100\n",
            "38/38 [==============================] - 1s 18ms/step - loss: 2.3431e-04\n",
            "Epoch 81/100\n",
            "38/38 [==============================] - 1s 21ms/step - loss: 2.4941e-04\n",
            "Epoch 82/100\n",
            "38/38 [==============================] - 1s 16ms/step - loss: 2.3674e-04\n",
            "Epoch 83/100\n",
            "38/38 [==============================] - 1s 14ms/step - loss: 2.3604e-04\n",
            "Epoch 84/100\n",
            "38/38 [==============================] - 0s 11ms/step - loss: 2.2837e-04\n",
            "Epoch 85/100\n",
            "38/38 [==============================] - 1s 14ms/step - loss: 2.2751e-04\n",
            "Epoch 86/100\n",
            "38/38 [==============================] - 1s 15ms/step - loss: 2.3043e-04\n",
            "Epoch 87/100\n",
            "38/38 [==============================] - 1s 16ms/step - loss: 2.3152e-04\n",
            "Epoch 88/100\n",
            "38/38 [==============================] - 1s 18ms/step - loss: 2.3592e-04\n",
            "Epoch 89/100\n",
            "38/38 [==============================] - 1s 24ms/step - loss: 2.3083e-04\n",
            "Epoch 90/100\n",
            "38/38 [==============================] - 1s 13ms/step - loss: 2.3060e-04\n",
            "Epoch 91/100\n",
            "38/38 [==============================] - 0s 11ms/step - loss: 2.2282e-04\n",
            "Epoch 92/100\n",
            "38/38 [==============================] - 0s 11ms/step - loss: 2.3171e-04\n",
            "Epoch 93/100\n",
            "38/38 [==============================] - 0s 11ms/step - loss: 2.2260e-04\n",
            "Epoch 94/100\n",
            "38/38 [==============================] - 1s 19ms/step - loss: 2.3178e-04\n",
            "Epoch 95/100\n",
            "38/38 [==============================] - 1s 16ms/step - loss: 2.2867e-04\n",
            "Epoch 96/100\n",
            "38/38 [==============================] - 1s 15ms/step - loss: 2.2583e-04\n",
            "Epoch 97/100\n",
            "38/38 [==============================] - 1s 22ms/step - loss: 2.2231e-04\n",
            "Epoch 98/100\n",
            "38/38 [==============================] - 1s 24ms/step - loss: 2.1601e-04\n",
            "Epoch 99/100\n",
            "38/38 [==============================] - 1s 29ms/step - loss: 2.1539e-04\n",
            "Epoch 100/100\n",
            "38/38 [==============================] - 1s 31ms/step - loss: 2.2422e-04\n"
          ]
        },
        {
          "output_type": "execute_result",
          "data": {
            "text/plain": [
              "<keras.src.callbacks.History at 0x79beab43dcf0>"
            ]
          },
          "metadata": {},
          "execution_count": 16
        }
      ]
    },
    {
      "cell_type": "code",
      "source": [
        "dataset_test = pd.read_csv('testset.csv')"
      ],
      "metadata": {
        "id": "6uwD1GvGdGWx"
      },
      "execution_count": 17,
      "outputs": []
    },
    {
      "cell_type": "code",
      "source": [
        "test_set = dataset_test.iloc[:,1:2].values"
      ],
      "metadata": {
        "id": "YVjaLDMydJ0O"
      },
      "execution_count": 18,
      "outputs": []
    },
    {
      "cell_type": "code",
      "source": [
        "test_set.shape"
      ],
      "metadata": {
        "colab": {
          "base_uri": "https://localhost:8080/"
        },
        "id": "5KGHjseDdMgD",
        "outputId": "1a2bf062-ae45-4161-8a07-28fc118e5577"
      },
      "execution_count": 19,
      "outputs": [
        {
          "output_type": "execute_result",
          "data": {
            "text/plain": [
              "(125, 1)"
            ]
          },
          "metadata": {},
          "execution_count": 19
        }
      ]
    },
    {
      "cell_type": "code",
      "source": [
        "dataset_total = pd.concat((dataset_train['Open'],dataset_test['Open']),axis=0)"
      ],
      "metadata": {
        "id": "X1bpZPhtdPMu"
      },
      "execution_count": 20,
      "outputs": []
    },
    {
      "cell_type": "code",
      "source": [
        "inputs = dataset_total.values\n",
        "inputs = inputs.reshape(-1,1)\n",
        "inputs_scaled=sc.transform(inputs)\n",
        "X_test = []\n",
        "for i in range(60,1384):\n",
        "  X_test.append(inputs_scaled[i-60:i,0])\n",
        "X_test = np.array(X_test)\n",
        "X_test = np.reshape(X_test,(X_test.shape[0], X_test.shape[1],1))"
      ],
      "metadata": {
        "id": "gnzBAZ1idSU9"
      },
      "execution_count": 21,
      "outputs": []
    },
    {
      "cell_type": "code",
      "source": [
        "X_test.shape"
      ],
      "metadata": {
        "colab": {
          "base_uri": "https://localhost:8080/"
        },
        "id": "xE1Xz6UqdVFA",
        "outputId": "0bc01f9b-9381-40f3-fe1f-9f873d50bbb0"
      },
      "execution_count": 22,
      "outputs": [
        {
          "output_type": "execute_result",
          "data": {
            "text/plain": [
              "(1324, 60, 1)"
            ]
          },
          "metadata": {},
          "execution_count": 22
        }
      ]
    },
    {
      "cell_type": "code",
      "source": [
        "predicted_stock_price_scaled = model.predict(X_test)\n",
        "predicted_stock_price = sc.inverse_transform(predicted_stock_price_scaled)"
      ],
      "metadata": {
        "colab": {
          "base_uri": "https://localhost:8080/"
        },
        "id": "_hYR1eTldX0B",
        "outputId": "6b31fb93-5d22-45b3-dab4-8d7bfc9da40c"
      },
      "execution_count": 23,
      "outputs": [
        {
          "output_type": "stream",
          "name": "stdout",
          "text": [
            "42/42 [==============================] - 0s 4ms/step\n"
          ]
        }
      ]
    },
    {
      "cell_type": "code",
      "source": [
        "plt.plot(np.arange(0,1384),inputs, color='red', label = 'Test(Real) Google stock price')\n",
        "plt.plot(np.arange(60,1384),predicted_stock_price, color='blue', label = 'Predicted Google stock price')\n",
        "plt.title('Google Stock Price Prediction')\n",
        "plt.xlabel('Time')\n",
        "plt.ylabel('Google Stock Price')\n",
        "plt.legend()\n",
        "plt.show()"
      ],
      "metadata": {
        "colab": {
          "base_uri": "https://localhost:8080/",
          "height": 472
        },
        "id": "uO4R6yKgdZR-",
        "outputId": "e8430908-0e0c-43ac-b080-33522203f2c8"
      },
      "execution_count": 24,
      "outputs": [
        {
          "output_type": "display_data",
          "data": {
            "text/plain": [
              "<Figure size 640x480 with 1 Axes>"
            ],
            "image/png": "[encoded data removed]"
          },
          "metadata": {}
        }
      ]
    },
    {
      "cell_type": "code",
      "source": [],
      "metadata": {
        "id": "AmtJE8jwdaXV"
      },
      "execution_count": null,
      "outputs": []
    }
  ]
}